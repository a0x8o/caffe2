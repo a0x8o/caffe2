{
 "cells": [
  {
   "cell_type": "markdown",
   "metadata": {},
   "source": [
    "# Tutorial 4. Immediate mode\n",
    "\n",
    "In this tutorial we will talk about a cute feature about Caffe2: immediate mode.\n",
    "\n",
    "From the previous tutorials you have seen that Caffe2 *declares* a network, and during this declaration phase, nothing gets actually executed - it's like writing the source of a program, and \"compilation/execution\" only happens later.\n",
    "\n",
    "This sometimes gets a bit tricky if we are in a researchy mind, and want to inspect typical intermediate outputs as we go. This is when the immediate mode come to help. At a high level, what the immediate mode does is to run the corresponding operators as you write them. The results live under a special workspace that can then be accessed via `FetchImmediate()` and `FeedImmediate()` runs.\n",
    "\n",
    "Let's show some examples."
   ]
  },
  {
   "cell_type": "code",
   "execution_count": 1,
   "metadata": {
    "collapsed": false
   },
   "outputs": [
    {
     "name": "stderr",
     "output_type": "stream",
     "text": [
      "WARNING:root:This caffe2 python run does not have GPU support. Will run CPU only.\n",
      "WARNING:root:Debug message: No module named libcaffe2_python_gpu\n"
     ]
    },
    {
     "data": {
      "text/plain": [
       "True"
      ]
     },
     "execution_count": 1,
     "metadata": {},
     "output_type": "execute_result"
    }
   ],
   "source": [
    "from caffe2.python import cnn, core, visualize, workspace\n",
    "import numpy as np\n",
    "import os\n",
    "core.GlobalInit(['caffe2', '--caffe2_log_level=-1'])"
   ]
  },
  {
   "cell_type": "markdown",
   "metadata": {
    "collapsed": true
   },
   "source": [
    "Now, as we have known before, in the normal mode, when you create an operator, we are *declaring* it only, and nothing gets actually executed. Let's re-confirm that."
   ]
  },
  {
   "cell_type": "code",
   "execution_count": 2,
   "metadata": {
    "collapsed": false
   },
   "outputs": [
    {
     "name": "stdout",
     "output_type": "stream",
     "text": [
      "Before execution, workspace contains X: False\n",
      "After execution, workspace contains X: True\n"
     ]
    }
   ],
   "source": [
    "workspace.ResetWorkspace()\n",
    "# declaration\n",
    "op = core.CreateOperator(\"GaussianFill\", [], \"X\", shape=[3, 5])\n",
    "print('Before execution, workspace contains X: {}'\n",
    "      .format(workspace.HasBlob(\"X\")))\n",
    "# execution\n",
    "workspace.RunOperatorOnce(op)\n",
    "print('After execution, workspace contains X: {}'\n",
    "      .format(workspace.HasBlob(\"X\")))"
   ]
  },
  {
   "cell_type": "markdown",
   "metadata": {
    "collapsed": true
   },
   "source": [
    "## Entering and exiting immediate mode.\n",
    "\n",
    "Entering immediate mode is easy: you basically invoke `workspace.StartImmediate()`. Since immediate mode has quite a lot of side effects, it would be good to read through the warning message to make sure you understand the implications.\n",
    "\n",
    "(If you don't want to see the messages, pass `i_know=True` to `StartImmediate` to suppress that.)"
   ]
  },
  {
   "cell_type": "code",
   "execution_count": 3,
   "metadata": {
    "collapsed": false
   },
   "outputs": [
    {
     "name": "stdout",
     "output_type": "stream",
     "text": [
      "\n",
      "    Enabling immediate mode in caffe2 python is an EXTREMELY EXPERIMENTAL\n",
      "    feature and may very easily go wrong. This is because Caffe2 uses a\n",
      "    declarative way of defining operators and models, which is essentially\n",
      "    not meant to run things in an interactive way. Read the following carefully\n",
      "    to make sure that you understand the caveats.\n",
      "\n",
      "    (1) You need to make sure that the sequences of operators you create are\n",
      "    actually runnable sequentially. For example, if you create an op that takes\n",
      "    an input X, somewhere earlier you should have already created X.\n",
      "\n",
      "    (2) Caffe2 immediate uses one single workspace, so if the set of operators\n",
      "    you run are intended to be under different workspaces, they will not run.\n",
      "    To create boundaries between such use cases, you can call FinishImmediate()\n",
      "    and StartImmediate() manually to flush out everything no longer needed.\n",
      "\n",
      "    (3) Underlying objects held by the immediate mode may interfere with your\n",
      "    normal run. For example, if there is a leveldb that you opened in immediate\n",
      "    mode and did not close, your main run will fail because leveldb does not\n",
      "    support double opening. Immediate mode may also occupy a lot of memory esp.\n",
      "    on GPUs. Call FinishImmediate() as soon as possible when you no longer\n",
      "    need it.\n",
      "\n",
      "    (4) Immediate is designed to be slow. Every immediate call implicitly\n",
      "    creates a temp operator object, runs it, and destroys the operator. This\n",
      "    slow-speed run is by design to discourage abuse. For most use cases other\n",
      "    than debugging, do NOT turn on immediate mode.\n",
      "\n",
      "    (5) If there is anything FATAL happening in the underlying C++ code, the\n",
      "    immediate mode will immediately (pun intended) cause the runtime to crash.\n",
      "\n",
      "    Thus you should use immediate mode with extra care. If you still would\n",
      "    like to, have fun [https://xkcd.com/149/].\n",
      "    \n"
     ]
    }
   ],
   "source": [
    "workspace.StartImmediate()"
   ]
  },
  {
   "cell_type": "markdown",
   "metadata": {},
   "source": [
    "Now that you have enabled immediate mode, any operators you run will simultaneously be executed in a separate immediate workspace. Note - the main workspace that you are working on is not affected. We designed the immediate workspace to be separate from the main workspace, so that nothing in the main workspace gets polluted."
   ]
  },
  {
   "cell_type": "code",
   "execution_count": 4,
   "metadata": {
    "collapsed": false
   },
   "outputs": [
    {
     "name": "stdout",
     "output_type": "stream",
     "text": [
      "Before execution, does workspace contains X? True\n",
      "But we can access it using the Immediate related functions.Here is a list of immediate blobs:\n",
      "['X']\n",
      "The content is like this:\n",
      "[[ 0.87197119  0.02245325 -0.48256612 -0.70905411  0.1288138 ]\n",
      " [-0.81278008 -0.25046423 -0.58188307  0.48693365 -0.35712072]\n",
      " [-0.03426806 -0.92325109 -0.00854768 -0.8590107   0.24451831]]\n"
     ]
    }
   ],
   "source": [
    "# declaration, and since we are in immediate mode, run it in the immediate workspace.\n",
    "op = core.CreateOperator(\"GaussianFill\", [], \"X\", shape=[3, 5])\n",
    "print('Before execution, does workspace contains X? {}'\n",
    "      .format(workspace.HasBlob(\"X\")))\n",
    "print('But we can access it using the Immediate related functions.'\n",
    "      'Here is a list of immediate blobs:')\n",
    "print(workspace.ImmediateBlobs())\n",
    "print('The content is like this:')\n",
    "print(workspace.FetchImmediate('X'))"
   ]
  },
  {
   "cell_type": "code",
   "execution_count": 5,
   "metadata": {
    "collapsed": true
   },
   "outputs": [],
   "source": [
    "# After the immediate execution, you can invoke StopImmediate() to clean up.\n",
    "workspace.StopImmediate()"
   ]
  },
  {
   "cell_type": "markdown",
   "metadata": {},
   "source": [
    "## Manually feeding blobs\n",
    "\n",
    "But wait, you say - what if I want to create an operator that uses an input that is \"declared\" but not present yet? Since the immediate workspace does not have the input, we will encounter an exception:"
   ]
  },
  {
   "cell_type": "code",
   "execution_count": 6,
   "metadata": {
    "collapsed": false
   },
   "outputs": [
    {
     "ename": "RuntimeError",
     "evalue": "[enforce fail at operator.cc:25] blob != nullptr. Encountered a non-existing input blob: X",
     "output_type": "error",
     "traceback": [
      "\u001b[1;31m---------------------------------------------------------------------------\u001b[0m",
      "\u001b[1;31mRuntimeError\u001b[0m                              Traceback (most recent call last)",
      "\u001b[1;32m<ipython-input-6-d3c4082a3026>\u001b[0m in \u001b[0;36m<module>\u001b[1;34m()\u001b[0m\n\u001b[0;32m      1\u001b[0m \u001b[0mworkspace\u001b[0m\u001b[1;33m.\u001b[0m\u001b[0mStartImmediate\u001b[0m\u001b[1;33m(\u001b[0m\u001b[0mi_know\u001b[0m\u001b[1;33m=\u001b[0m\u001b[0mTrue\u001b[0m\u001b[1;33m)\u001b[0m\u001b[1;33m\u001b[0m\u001b[0m\n\u001b[1;32m----> 2\u001b[1;33m \u001b[0mop\u001b[0m \u001b[1;33m=\u001b[0m \u001b[0mcore\u001b[0m\u001b[1;33m.\u001b[0m\u001b[0mCreateOperator\u001b[0m\u001b[1;33m(\u001b[0m\u001b[1;34m\"Relu\"\u001b[0m\u001b[1;33m,\u001b[0m \u001b[1;34m\"X\"\u001b[0m\u001b[1;33m,\u001b[0m \u001b[1;34m\"Y\"\u001b[0m\u001b[1;33m)\u001b[0m\u001b[1;33m\u001b[0m\u001b[0m\n\u001b[0m",
      "\u001b[1;32m/mnt/xarfuse/uid-112042/b75fdb7a/caffe2/python/core.pyc\u001b[0m in \u001b[0;36mCreateOperator\u001b[1;34m(operator_type, inputs, outputs, name, control_input, device_option, arg, engine, **kwargs)\u001b[0m\n",
      "\u001b[1;32m/mnt/xarfuse/uid-112042/b75fdb7a/caffe2/python/workspace.pyc\u001b[0m in \u001b[0;36mRunOperatorImmediate\u001b[1;34m(op)\u001b[0m\n",
      "\u001b[1;32m/mnt/xarfuse/uid-112042/b75fdb7a/caffe2/python/workspace.pyc\u001b[0m in \u001b[0;36mRunOperatorOnce\u001b[1;34m(operator)\u001b[0m\n",
      "\u001b[1;31mRuntimeError\u001b[0m: [enforce fail at operator.cc:25] blob != nullptr. Encountered a non-existing input blob: X"
     ]
    }
   ],
   "source": [
    "workspace.StartImmediate(i_know=True)\n",
    "op = core.CreateOperator(\"Relu\", \"X\", \"Y\")"
   ]
  },
  {
   "cell_type": "markdown",
   "metadata": {
    "collapsed": true
   },
   "source": [
    "This is because immediate mode, being completely imperative, requires any input to be used to already exist in the immediate workspace. To make the immediate mode aware of such external inputs, we can manually feed blobs to the immediate workspace."
   ]
  },
  {
   "cell_type": "code",
   "execution_count": 7,
   "metadata": {
    "collapsed": false
   },
   "outputs": [
    {
     "name": "stdout",
     "output_type": "stream",
     "text": [
      "Example input is:\n",
      "[[-0.44337013 -0.31392127 -0.85655093]\n",
      " [ 0.24599633  0.69237536 -0.30405223]]\n",
      "Example output is:\n",
      "[[ 0.          0.          0.        ]\n",
      " [ 0.24599633  0.69237536  0.        ]]\n"
     ]
    }
   ],
   "source": [
    "X = np.random.randn(2, 3).astype(np.float32)\n",
    "workspace.FeedImmediate(\"X\", X)\n",
    "# Now, we can safely run CreateOperator since immediate mode knows what X looks like\n",
    "op = core.CreateOperator(\"Relu\", \"X\", \"Y\")\n",
    "print(\"Example input is:\\n{}\".format(workspace.FetchImmediate(\"X\")))\n",
    "print(\"Example output is:\\n{}\".format(workspace.FetchImmediate(\"Y\")))"
   ]
  },
  {
   "cell_type": "code",
   "execution_count": 8,
   "metadata": {
    "collapsed": true
   },
   "outputs": [],
   "source": [
    "workspace.StopImmediate()"
   ]
  },
  {
   "cell_type": "markdown",
   "metadata": {},
   "source": [
    "## When is immediate mode useful?\n",
    "\n",
    "You might want to use immediate mode when you are not very sure about the shape of the intermediate results, such as in a CNN where there are multiple convolution and pooling layers. Let's say that you are creating an MNIST convnet model but don't want to calculate the number of dimensions for the final FC layer. Here is what you might want to do."
   ]
  },
  {
   "cell_type": "code",
   "execution_count": 9,
   "metadata": {
    "collapsed": false
   },
   "outputs": [
    {
     "name": "stdout",
     "output_type": "stream",
     "text": [
      "Feature dimensions before FC layer: (50, 4, 4)\n",
      "Blob data has shape: (64, 1, 28, 28)\n",
      "Blob conv1 has shape: (64, 20, 24, 24)\n",
      "Blob pool1 has shape: (64, 20, 12, 12)\n",
      "Blob conv2 has shape: (64, 50, 8, 8)\n",
      "Blob pool2 has shape: (64, 50, 4, 4)\n",
      "Blob fc3 has shape: (64, 500)\n",
      "Blob pred has shape: (64, 10)\n",
      "Sample input:\n"
     ]
    },
    {
     "data": {
      "image/png": "[encoded data removed]",
      "text/plain": [
       "<matplotlib.figure.Figure at 0x7fbbceb70a50>"
      ]
     },
     "metadata": {},
     "output_type": "display_data"
    }
   ],
   "source": [
    "model = cnn.CNNModelHelper(order=\"NCHW\", name=\"mnist\")\n",
    "# Start the immediate mode.\n",
    "workspace.StartImmediate(i_know=True)\n",
    "\n",
    "data_folder = os.path.join(os.path.expanduser('~'), 'python', 'tutorial_data')\n",
    "data_uint8, label = model.TensorProtosDBInput(\n",
    "    [], [\"data_uint8\", \"label\"], batch_size=64,\n",
    "    db=os.path.join(data_folder, 'mnist/mnist-train-nchw-minidb'),\n",
    "    db_type='minidb')\n",
    "data = model.Cast(data_uint8, \"data\", to=core.DataType.FLOAT)\n",
    "data = model.Scale(data, data, scale=float(1./256))\n",
    "data = model.StopGradient(data, data)\n",
    "conv1 = model.Conv(data, 'conv1', 1, 20, 5)\n",
    "pool1 = model.MaxPool(conv1, 'pool1', kernel=2, stride=2)\n",
    "conv2 = model.Conv(pool1, 'conv2', 20, 50, 5)\n",
    "pool2 = model.MaxPool(conv2, 'pool2', kernel=2, stride=2)\n",
    "\n",
    "# What is the shape of pool2 again...?\n",
    "feature_dimensions = workspace.FetchImmediate(\"pool2\").shape[1:]\n",
    "print(\"Feature dimensions before FC layer: {}\".format(feature_dimensions))\n",
    "\n",
    "fc3 = model.FC(pool2, 'fc3', int(np.prod(feature_dimensions)), 500)\n",
    "fc3 = model.Relu(fc3, fc3)\n",
    "pred = model.FC(fc3, 'pred', 500, 10)\n",
    "softmax = model.Softmax(pred, 'softmax')\n",
    "\n",
    "# Let's see if the dimensions are all correct:\n",
    "for blob in [\"data\", \"conv1\", \"pool1\", \"conv2\", \"pool2\", \"fc3\", \"pred\"]:\n",
    "    print(\"Blob {} has shape: {}\".format(\n",
    "          blob, workspace.FetchImmediate(blob).shape))\n",
    "# Let's also visualize a sample input.\n",
    "print(\"Sample input:\")\n",
    "visualize.NCHW.ShowMultiple(workspace.FetchImmediate(\"data\"))\n",
    "workspace.StopImmediate()"
   ]
  },
  {
   "cell_type": "markdown",
   "metadata": {},
   "source": [
    "Remember, immediate mode is only intended to be used in debugging mode, and are only intended for you to verify things interactively. For example, in the use case above, what you want to do eventually is to remove the feature_dimensions argument and replace it with code that do not depend on immediate mode, such as hard-coding it."
   ]
  },
  {
   "cell_type": "markdown",
   "metadata": {},
   "source": [
    "## Departing words\n",
    "\n",
    "Immediate mode could be a useful tool for quick iterations. But it could also easily go wrong. Make sure that you understand its purpose, and never abuse it in real product environments. The philosophy of Caffe2 is to make things very flexible and this is one example of it, but it also makes you easy to shoot yourself in the foot. Take care :)"
   ]
  },
  {
   "cell_type": "code",
   "execution_count": null,
   "metadata": {
    "collapsed": true
   },
   "outputs": [],
   "source": []
  }
 ],
 "metadata": {
  "kernelspec": {
   "display_name": "Python 2",
   "language": "python",
   "name": "python2"
  },
  "language_info": {
   "codemirror_mode": {
    "name": "ipython",
    "version": 2
   },
   "file_extension": ".py",
   "mimetype": "text/x-python",
   "name": "python",
   "nbconvert_exporter": "python",
   "pygments_lexer": "ipython2",
   "version": "2.7.8"
  }
 },
 "nbformat": 4,
 "nbformat_minor": 0
}
